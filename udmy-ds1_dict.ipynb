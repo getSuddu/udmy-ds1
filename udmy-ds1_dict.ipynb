{
 "cells": [
  {
   "cell_type": "code",
   "execution_count": null,
   "metadata": {},
   "outputs": [],
   "source": [
    "###########################Dictionary Methods#####################################\n",
    "#copy()  - Create copy of the dictionary\n",
    "#fromkeys(seq[], Val)  # {}.fromkeys([1, 2,3], 0) --> create new dict from an existing starting with keys and values\n",
    "#pop(key, default_val)  --> if key not found return def_val\n",
    "#popitem()  --> pop last key val pair  ('key', 'val')\n",
    "#clear()  --> new_dict.clear()\n",
    "\n",
    "#get(key, def_value)  --> if key does not exist in dict; return the specified value\n",
    "# items()  --> dict.items()  --> retuens list of  key and value tuples  [(key, val), (key, val)]\n",
    "# keys()  --> list of keys in dict  --> dict_keys(['name', 'age', 'test'])\n",
    "#setdefault(key, optinal_default_val)  --> if key is not specified in dictionary it sets default value. if def_val not mention it returns None  \n",
    "#values() mydict.values() --> Returns List of all values in dict -->dict_values(['sud', 25, 'Pass'])\n",
    "# updates(other_dict/(key, val))  --> updates existing key or add new\n",
    "\n",
    "### Builtin functions\n",
    "### 'in' & 'not in' operator works with key --> print('name' in mydict) o/p - True\n",
    "### for value -->  print('sud' in mydict.values())\n",
    "### len(my_dict)  --> Count # of pairs in dict\n",
    "### all(my_dict)  --> returns true if all keys are int or true (0 int is false here)\n",
    "### ANY(MY_DICT)  --> returns true; if any one key is True  --> any(mydict); key -- true means int(other than 0) of bool True\n",
    "### sorted(mydict)  --> returns sorted keys list"
   ]
  },
  {
   "cell_type": "markdown",
   "metadata": {},
   "source": [
    "                                        # UDemy-ds1\n",
    "                                        \n",
    "### Q11. Add Common Keys                                        \n",
    "Define a function with takes two dictionaries as parameters and merge them and sum the values of common keys."
   ]
  },
  {
   "cell_type": "code",
   "execution_count": null,
   "metadata": {},
   "outputs": [
    {
     "ename": "",
     "evalue": "",
     "output_type": "error",
     "traceback": [
      "\u001b[1;31mRunning cells with 'r-reticulate (Python 3.6.11)' requires the ipykernel package.\n",
      "\u001b[1;31mRun the following command to install 'ipykernel' into the Python environment. \n",
      "\u001b[1;31mCommand: 'conda install -n r-reticulate ipykernel --update-deps --force-reinstall'"
     ]
    }
   ],
   "source": [
    "dict1 = {'a': 1, 'b': 2, 'c': 3}\n",
    "dict2 = {'b': 3, 'c': 4, 'd': 5}\n",
    "\n",
    "res_dict=dict1.copy()\n",
    "for key,value in dict2.items(): #items-key,pair  # enumerate(dict2): - gives index and keys\n",
    "    res_dict[key] = res_dict.get(key,0) + value\n",
    "res_dict"
   ]
  },
  {
   "cell_type": "markdown",
   "metadata": {},
   "source": [
    "### Q12. Key with the Highest Value\n",
    "Define a function which takes a dictionary as a parameter and returns the key with the highest value in a dictionary."
   ]
  },
  {
   "cell_type": "code",
   "execution_count": 5,
   "metadata": {},
   "outputs": [
    {
     "name": "stdout",
     "output_type": "stream",
     "text": [
      "First Method -  b\n",
      "Second method -  b\n"
     ]
    }
   ],
   "source": [
    "def max_value_key(my_dict):\n",
    "    maxval = 0\n",
    "    for key,val in my_dict.items():\n",
    "        if maxval < val:\n",
    "            maxval = val\n",
    "            maxkey = key  # error in other editor local var reference before assignment for maxkey Added maxkey='a'\n",
    "    return maxkey\n",
    "\n",
    "my_dict = {'a': 5, 'b': 9, 'c': 2}\n",
    "print(\"First Method - \",max_value_key(my_dict))\n",
    "\n",
    "#The max() function iterates through the keys in the dictionary and compares the values associated with each key using \n",
    "#the get() method. The key parameter specifies a custom function to extract a comparison key from each dictionary key.\n",
    "#In this case, the get() method returns the value associated with each key, so the max() function compares the values \n",
    "#of the dictionary.\n",
    "print(\"Second method - \" , max(my_dict, key=my_dict.get))"
   ]
  },
  {
   "cell_type": "markdown",
   "metadata": {},
   "source": [
    "### Reverse Key-Value Pairs\n",
    "Define a function which takes as a parameter dictionary and returns a dictionary in which everse the key-value pairs are reversed."
   ]
  },
  {
   "cell_type": "code",
   "execution_count": 15,
   "metadata": {},
   "outputs": [
    {
     "data": {
      "text/plain": [
       "{1: 'a', 2: 'b', 3: 'c'}"
      ]
     },
     "execution_count": 15,
     "metadata": {},
     "output_type": "execute_result"
    }
   ],
   "source": [
    "def reverse_dict(my_dict):\n",
    "    res={}\n",
    "    for key, val in my_dict.items(): \n",
    "            res[val] = key\n",
    "    return res\n",
    "#my_dict.fromkeys(list(my_dict.values()), list(my_dict.values()))\n",
    "\n",
    "my_dict = {'a': 1, 'b': 2, 'c': 3}\n",
    "reverse_dict(my_dict)"
   ]
  },
  {
   "cell_type": "code",
   "execution_count": 16,
   "metadata": {},
   "outputs": [
    {
     "data": {
      "text/plain": [
       "{'a': 3, 'b': 2, 'c': 1}"
      ]
     },
     "execution_count": 16,
     "metadata": {},
     "output_type": "execute_result"
    }
   ],
   "source": [
    "def reverse_valof_key(my_dict):\n",
    "    val = list(my_dict.values())[::-1]\n",
    "    res = {}\n",
    "    for i,key in enumerate(my_dict):\n",
    "        #print(i,key,val)\n",
    "        res[key] = val[i]\n",
    "    return res\n",
    "\n",
    "my_dict = {'a': 1, 'b': 2, 'c': 3}\n",
    "reverse_valof_key(my_dict)"
   ]
  },
  {
   "cell_type": "markdown",
   "metadata": {},
   "source": [
    "### Conditional Filter\n",
    "Define a function that takes a dictionary as a parameter and returns a dictionary with elements based on a condition."
   ]
  },
  {
   "cell_type": "code",
   "execution_count": 21,
   "metadata": {},
   "outputs": [
    {
     "name": "stdout",
     "output_type": "stream",
     "text": [
      "First Method {'b': 2, 'd': 4}\n",
      "Second Method {'b': 2, 'd': 4}\n"
     ]
    }
   ],
   "source": [
    "def filter_dict(my_dict, condition):\n",
    "    res = {}\n",
    "    for k,v in my_dict.items():\n",
    "        #print(condition(k,v))\n",
    "        if condition(k,v):\n",
    "            res[k] = v\n",
    "    return res\n",
    "#2nd method\n",
    "def filter_dict1(my_dict, condition):\n",
    "    return {k:v for k,v in my_dict.items() if condition(k,v)}\n",
    "\n",
    "\n",
    "my_dict = {'a': 1, 'b': 2, 'c': 3, 'd': 4} \n",
    "\n",
    "print('First Method', filter_dict(my_dict, lambda k, v: v % 2 == 0) )\n",
    "print('Second Method', filter_dict1(my_dict, lambda k, v: v % 2 == 0) )"
   ]
  },
  {
   "cell_type": "markdown",
   "metadata": {},
   "source": [
    "# Same Frequency\n",
    "Define a function which takes two lists as parameters and check if two given lists have the same frequency of elements."
   ]
  },
  {
   "cell_type": "code",
   "execution_count": 23,
   "metadata": {},
   "outputs": [
    {
     "data": {
      "text/plain": [
       "False"
      ]
     },
     "execution_count": 23,
     "metadata": {},
     "output_type": "execute_result"
    }
   ],
   "source": [
    "def check_same_frequency(list1, list2):\n",
    "    return (covert2dict(list1) == covert2dict(list2))  # O(min(m1, m2))\n",
    "    \n",
    "def covert2dict(list1):  \n",
    "    res={}\n",
    "    for item in list1:\n",
    "        res[item] = res.get(item, 0) + 1\n",
    "    return res\n",
    "\n",
    "# T --> O(n1 + n2 + min(m1, m2)); where len(list1)-n1 dict1 len -> m1\n",
    "\n",
    "list1 = [1, 2, 3, 2, 1]\n",
    "list2 = [3, 1, 2, 1, 3]\n",
    "check_same_frequency(list1, list2\n",
    "                     \n",
    "                     "
   ]
  },
  {
   "cell_type": "code",
   "execution_count": null,
   "metadata": {},
   "outputs": [],
   "source": []
  }
 ],
 "metadata": {
  "kernelspec": {
   "display_name": "Python 3",
   "language": "python",
   "name": "python3"
  },
  "language_info": {
   "codemirror_mode": {
    "name": "ipython",
    "version": 3
   },
   "file_extension": ".py",
   "mimetype": "text/x-python",
   "name": "python",
   "nbconvert_exporter": "python",
   "pygments_lexer": "ipython3",
   "version": "3.6.11"
  }
 },
 "nbformat": 4,
 "nbformat_minor": 4
}
